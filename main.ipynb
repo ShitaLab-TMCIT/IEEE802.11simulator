{
 "cells": [
  {
   "cell_type": "markdown",
   "metadata": {},
   "source": [
    "# Document"
   ]
  },
  {
   "cell_type": "markdown",
   "metadata": {},
   "source": [
    "## インポート + 定数 + 出力モード\n",
    "Pythonに元から備わっているrandom関数なら今後も大きな変更はないであろうという希望的観測の元採用.\n",
    "\n",
    "スロットタイムはいったん$9[\\mathrm{\\mu s}]$とした.\n",
    "\n",
    "出力モードを設定できるようにした.0では衝突時のみログが流れる.1だと全てのログを出力する.2では結果のみが出力される.関数の呼び出し時に指定できる."
   ]
  },
  {
   "cell_type": "code",
   "execution_count": null,
   "metadata": {},
   "outputs": [],
   "source": [
    "import random\n",
    "\n",
    "# Slot time\n",
    "SLOT_TIME = 9 * 10**(-6)\n",
    "\n",
    "# Output modes\n",
    "print_mode = {\n",
    "    0: \"Only Collision\",\n",
    "    1: \"ALL\",\n",
    "    2: \"No Output\"\n",
    "}"
   ]
  },
  {
   "cell_type": "markdown",
   "metadata": {},
   "source": [
    "## User Classの宣言\n",
    "PythonのクラスはCの構造体のメンバーに関数も持てるようにした感じ。\n",
    "\n",
    "ここではUser Classが初期値として以下を持つ\n",
    "- seedがあったら: `random.seed`を設定することでUser毎に一意のシード値で固定することで出力を固定する。\n",
    "- seedがなかったら: 完全ランダム\n",
    "- User id(0~)\n",
    "- n: 再送回数\n",
    "- slots: スロット数defaultは0\n",
    "- transmitted: 送信成功回数defaultは0\n",
    "- CW: Contention Window, calculate_CW関数の返り値が代入される(関数内で決定されたslotsにSLOT_TIMEをかけた値)\n",
    "- total_data_transmitted: 送信できたデータの総和"
   ]
  },
  {
   "cell_type": "markdown",
   "metadata": {},
   "source": [
    "### calculate_CW\n",
    "返り値: CW[s]\n",
    "\n",
    "CWのスロットの最大値`cw_max`は2^(4 + 再送回数n) - 1なので,そのユーザーのスロットの数`self.slots`は\n",
    "\n",
    "1～min(`cw_max`, 1023)の間のランダムの値で決まり,代入する.\n",
    "\n",
    "`self.slots`に`SLOT_TIME`をかけてCWを返している"
   ]
  },
  {
   "cell_type": "markdown",
   "metadata": {},
   "source": [
    "### re_transmit\n",
    "再送処理\n",
    "\n",
    "`self.n += 1`で再送回数をインクリメントした状態でcalculate_CW関数を呼ぶことで前述の`cw_max`が大きくなった状態でランダム関数を通る"
   ]
  },
  {
   "cell_type": "markdown",
   "metadata": {},
   "source": [
    "### reset_CW\n",
    "送信完了したら再送回数を0にしてCWを代入しなおし"
   ]
  },
  {
   "cell_type": "code",
   "execution_count": null,
   "metadata": {},
   "outputs": [],
   "source": [
    "class User:\n",
    "    # Initialization of User class\n",
    "    def __init__(self, id, n=0, seed=None):\n",
    "        if seed is not None:\n",
    "            # Set random seed\n",
    "            random.seed(seed + id)\n",
    "        self.id = id\n",
    "        self.n = n  # Number of retries (for CW extension)\n",
    "        self.slots = 0  # Number of waiting slots\n",
    "        self.transmitted = 0  # Number of successful transmissions\n",
    "        self.CW = self.calculate_CW()  # Contention window\n",
    "        self.total_data_transmitted = 0  # Total data transmitted\n",
    "\n",
    "    # Calculate the Contention Window (CW)\n",
    "    def calculate_CW(self):\n",
    "        cw_max = 2**(4 + self.n) - 1  # Maximum value of CW\n",
    "        self.slots = random.randint(1, min(cw_max, 1023))  # Limit number of slots to 1023\n",
    "        return self.slots * SLOT_TIME\n",
    "\n",
    "    # Update CW when retransmitting\n",
    "    def re_transmit(self):\n",
    "        self.n += 1\n",
    "        self.CW = self.calculate_CW()\n",
    "\n",
    "    # Reset CW after successful transmission\n",
    "    def reset_CW(self):\n",
    "        self.n = 0\n",
    "        self.CW = self.calculate_CW()"
   ]
  }
 ],
 "metadata": {
  "language_info": {
   "name": "python"
  }
 },
 "nbformat": 4,
 "nbformat_minor": 2
}
